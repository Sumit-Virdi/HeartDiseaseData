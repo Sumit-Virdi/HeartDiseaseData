{
 "cells": [
  {
   "cell_type": "markdown",
   "id": "b43006c0-bfcf-41f4-81ae-a4504ef30bba",
   "metadata": {},
   "source": [
    "# Heart Disease Dataset - Report\n",
    "\n",
    "### Introduction:\n",
    "\n",
    "\n",
    "  **Cardiovascular** disease (_or commonly referred to as heart disease_) is a broad-stroke term used to describe patients <br> who have compromised circulatory systems due to a multitude of environmental, physical, and/or genetic factors. For example, age can often indicate how suceptible an individual is to developing a heart condition. Heart disease is the top killer in the US. The obesity epidemic that has taken over the Western half of the hemisphere (particularly the US), has skyrocketed the cases of heart disease over the last 3 years. In 2017-2020, nearly 160 million people in the U.S. were overweight or obese: 68% of adults and 32% of children, and about 43% of Americans had a total cholesterol of 200 mg/dL or higher. Canada does not fare any better as in 2017, an estimated 84.5% of men, 68.5% of women, 48.1% of boys and 44.2% of girls were overweight. Despite efforts to promote healthy living, millions continue to suffer from some form of heart disease. The most widespread case of heart disease is coronary heart disease which has a 20% fatality among individuals, roughly 58% of men and 42% of females (_NCBI_). These contributing factors of cholesterol, age etc. are some of the elements medical professionals use to determine the health of an individual, and the likelihood of some cardiac aliment.  <br> <br>In this project, our goal is to identify the likelihood of an individual having a test positive for **angiographic disease** (or heart disease). To perform this classification test, we have chosen to load the `Heart Disease Data Set` provided by the UCI Machine Learning Repository (UCI). The overarching motive for this report is to allow physicians to detect individuals who are susceptible, or already have, a heart disease and shed light on the detrimental nature of unhealthy eating habits on an individual's health. This dataset includes many variables which play into predicting whether a patient has heart disease, many of which have been deprecated so we will only be focusing on the useable attributes these include  <br>\n",
    "   \n",
    "   - `age` - age in years \n",
    "   - `sex` - (1 = male; 0 = female) \n",
    "   - `cp` - chest pain type 1 = typical angina, 2 = atypical angina, 3 = non-angina pain, 4 = asymptomatic angina\n",
    "   - `trestbps` - resting blood pressure (in mm Hg on admission to the hospital) \n",
    "   - `chol` - serum cholestoral in mg/dl \n",
    "   - `fbs` - (fasting blood sugar > 120 mg/dl) (1 = true; 0 = false) \n",
    "   - `restecg` - resting electrocardiographic results \n",
    "   - `thalach` - the max heart rate achieved\n",
    "   - `exang` - exercise induced angina (1 = yes; 0 = no) \n",
    "   - `num` - diagnosis of heart disease (angiographic disease status)\n",
    "   \n",
    "The variables which we have chosen to exclude are the `oldpeak`, `slope`, `ca`, `thal` as through our analysis of the data, these variables have proven to be non-factors through plotting it alongside other predictor variables. This means that they had a net zero change on the outcome of the model and therefore will not be used.\n"
   ]
  },
  {
   "cell_type": "markdown",
   "id": "57c81745-839b-4670-891a-c12709c9437b",
   "metadata": {},
   "source": [
    "\n"
   ]
  },
  {
   "cell_type": "markdown",
   "id": "e27cffb1-1bbb-48aa-b98e-bbc960e68174",
   "metadata": {},
   "source": [
    "## **Summary Tables**"
   ]
  },
  {
   "cell_type": "markdown",
   "id": "1c5fd42c-8224-48b0-aad9-ff875017f8bd",
   "metadata": {},
   "source": [
    "## **Graphing and Visualizations**"
   ]
  },
  {
   "cell_type": "markdown",
   "id": "ce6eee20-9201-46c1-b5bf-fd70ea0502eb",
   "metadata": {},
   "source": [
    "## **Methods** "
   ]
  },
  {
   "cell_type": "markdown",
   "id": "592b64d8-a95e-469b-b981-19eeaa64c101",
   "metadata": {},
   "source": [
    "## **Expected Results** \n"
   ]
  }
 ],
 "metadata": {
  "kernelspec": {
   "display_name": "R",
   "language": "R",
   "name": "ir"
  },
  "language_info": {
   "codemirror_mode": "r",
   "file_extension": ".r",
   "mimetype": "text/x-r-source",
   "name": "R",
   "pygments_lexer": "r",
   "version": "4.1.3"
  }
 },
 "nbformat": 4,
 "nbformat_minor": 5
}
