{
 "cells": [
  {
   "cell_type": "markdown",
   "id": "105ff676-d198-4242-92ef-ac1c42b137c3",
   "metadata": {},
   "source": [
    "# References"
   ]
  },
  {
   "cell_type": "markdown",
   "id": "9a456da2-b298-420d-a8da-ea34047ed50e",
   "metadata": {},
   "source": [
    "Dua, D. and Graff, C. (2019). UCI Machine Learning Repository [http://archive.ics.uci.edu/ml]. Irvine, CA: University of California, School of Information and Computer Science.\n",
    "\n",
    "Maas, A. H., & Appelman, Y. E. (2010). _Gender differences in coronary heart disease._ Netherlands heart journal : monthly journal of the Netherlands Society of Cardiology and the Netherlands Heart Foundation, 18(12), 598–602. <br> https://doi.org/10.1007/s12471-010-0841-y\n",
    "\n",
    "National Center for Chronic Disease Prevention and Health Promotion , Division for Heart Disease and Stroke Prevention. (2022, October 14). _Women and heart disease._ Centers for Disease Control and Prevention. Retrieved December 3, 2022, from <br>https://www.cdc.gov/heartdisease/women.htm \n",
    "\n",
    "National Center for Chronic Disease Prevention and Health Promotion , Division for Heart Disease and Stroke Prevention. (2022, October 14). _Heart disease facts._ Centers for Disease Control and Prevention. Retrieved December 3, 2022, from <br> https://www.cdc.gov/heartdisease/facts.htm \n",
    "\n",
    "The American Heart Association (AHA) and The American Stroke Association (ASA). (n.d.). _#1 Killer in america- heart disease._ Fort HealthCare. Retrieved December 3, 2022, from <br>             https://www.forthealthcare.com/health-365-article/1-killer-in-america-heart-disease/ \n",
    "\n"
   ]
  }
 ],
 "metadata": {
  "kernelspec": {
   "display_name": "R",
   "language": "R",
   "name": "ir"
  },
  "language_info": {
   "codemirror_mode": "r",
   "file_extension": ".r",
   "mimetype": "text/x-r-source",
   "name": "R",
   "pygments_lexer": "r",
   "version": "4.1.3"
  }
 },
 "nbformat": 4,
 "nbformat_minor": 5
}
